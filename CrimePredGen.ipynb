{
 "cells": [
  {
   "cell_type": "code",
   "execution_count": 2,
   "metadata": {},
   "outputs": [
    {
     "data": {
      "text/plain": [
       "'\\nREAD COMMON DATASET FORMAT\\nPARSE occurencedate\\nPARSE crimename\\nSEPARATE INTO TRAINING AND TEST\\nCHOOSE MODEL - KMeans\\nTRY DIFFERENT MODELS - get best results\\nPlot predictions on map\\n\\nSEND TO TORONTO CITY HALL\\nWRITE ARTICLE ABOUT IT\\nSEND TO GLOBAL/CTV\\n'"
      ]
     },
     "execution_count": 2,
     "metadata": {},
     "output_type": "execute_result"
    }
   ],
   "source": [
    "\"\"\"\n",
    "READ COMMON DATASET FORMAT\n",
    "PARSE occurencedate\n",
    "PARSE crimename\n",
    "SEPARATE INTO TRAINING AND TEST\n",
    "CHOOSE MODEL - KMeans\n",
    "TRY DIFFERENT MODELS - get best results\n",
    "Plot predictions on map\n",
    "\n",
    "SEND TO TORONTO CITY HALL\n",
    "WRITE ARTICLE ABOUT IT\n",
    "SEND TO GLOBAL/CTV\n",
    "\"\"\""
   ]
  },
  {
   "cell_type": "code",
   "execution_count": 3,
   "metadata": {},
   "outputs": [
    {
     "data": {
      "text/plain": [
       "'\\nOccurence year/month/day/hour - day of week as result of math\\nOffence - one hot encoding\\nLat/Lng - Neighborhood (but as a result of lat lng - no onehot encoding)\\n\\n'"
      ]
     },
     "execution_count": 3,
     "metadata": {},
     "output_type": "execute_result"
    }
   ],
   "source": [
    "\"\"\"\n",
    "Occurence year/month/day/hour - day of week as result of math\n",
    "Offence - one hot encoding\n",
    "Lat/Lng - Neighborhood (but as a result of lat lng - no onehot encoding)\n",
    "\n",
    "\"\"\""
   ]
  },
  {
   "cell_type": "code",
   "execution_count": 4,
   "metadata": {},
   "outputs": [],
   "source": [
    "import pandas as pd\n",
    "import numpy as np\n",
    "import itertools\n",
    "import matplotlib.pyplot as plt\n",
    "\n",
    "from mpl_toolkits.mplot3d.axes3d import Axes3D\n",
    "\n",
    "import seaborn as sns\n",
    "\n",
    "from isodate import parse_datetime\n",
    "import datetime\n",
    "import time\n",
    "import dateutil.parser as dp\n",
    "\n",
    "%matplotlib inline"
   ]
  },
  {
   "cell_type": "code",
   "execution_count": 5,
   "metadata": {},
   "outputs": [],
   "source": [
    "#prep\n",
    "from sklearn.model_selection import train_test_split, GridSearchCV, RandomizedSearchCV\n",
    "from sklearn.preprocessing import LabelEncoder, StandardScaler, MaxAbsScaler, QuantileTransformer\n",
    "\n",
    "from sklearn.linear_model import LogisticRegression, LogisticRegressionCV, LinearRegression, Ridge, RidgeCV\n",
    "from sklearn.svm import SVR\n",
    "from sklearn.tree import DecisionTreeRegressor\n",
    "from sklearn.ensemble import RandomForestRegressor\n",
    "\n",
    "from sklearn import cluster\n",
    "from sklearn.cluster import KMeans\n",
    "from sklearn.decomposition import PCA\n",
    "\n",
    "from sklearn.metrics.pairwise import euclidean_distances"
   ]
  },
  {
   "cell_type": "code",
   "execution_count": 6,
   "metadata": {},
   "outputs": [
    {
     "name": "stderr",
     "output_type": "stream",
     "text": [
      "c:\\python36\\lib\\site-packages\\sklearn\\cross_validation.py:41: DeprecationWarning: This module was deprecated in version 0.18 in favor of the model_selection module into which all the refactored classes and functions are moved. Also note that the interface of the new CV iterators are different from that of this module. This module will be removed in 0.20.\n",
      "  \"This module will be removed in 0.20.\", DeprecationWarning)\n"
     ]
    }
   ],
   "source": [
    "#validation libraries\n",
    "from sklearn.cross_validation import KFold, StratifiedKFold\n",
    "from IPython.display import display\n",
    "from sklearn import metrics"
   ]
  },
  {
   "cell_type": "code",
   "execution_count": 7,
   "metadata": {
    "scrolled": false
   },
   "outputs": [
    {
     "name": "stderr",
     "output_type": "stream",
     "text": [
      "c:\\python36\\lib\\site-packages\\pandas\\core\\frame.py:3697: SettingWithCopyWarning: \n",
      "A value is trying to be set on a copy of a slice from a DataFrame\n",
      "\n",
      "See the caveats in the documentation: http://pandas.pydata.org/pandas-docs/stable/indexing.html#indexing-view-versus-copy\n",
      "  errors=errors)\n",
      "c:\\python36\\lib\\site-packages\\pandas\\core\\generic.py:4405: SettingWithCopyWarning: \n",
      "A value is trying to be set on a copy of a slice from a DataFrame.\n",
      "Try using .loc[row_indexer,col_indexer] = value instead\n",
      "\n",
      "See the caveats in the documentation: http://pandas.pydata.org/pandas-docs/stable/indexing.html#indexing-view-versus-copy\n",
      "  self[name] = value\n"
     ]
    },
    {
     "name": "stdout",
     "output_type": "stream",
     "text": [
      "   occurrencemonth  occurrencedayofweek  occurrencehour        Lat       Long\n",
      "0                7                    4              21  43.731232 -79.434601\n",
      "1                7                    4              23  43.743645 -79.603912\n"
     ]
    },
    {
     "data": {
      "text/plain": [
       "\"\\n['April' 'August' 'December' 'February' 'January' 'July' 'June' 'March'\\n 'May' 'November' 'October' 'September']\\n['Friday    ' 'Monday    ' 'Saturday  ' 'Sunday    ' 'Thursday  '\\n 'Tuesday   ' 'Wednesday ']\\n\""
      ]
     },
     "execution_count": 7,
     "metadata": {},
     "output_type": "execute_result"
    }
   ],
   "source": [
    "total_set = pd.read_csv(\"robbery.csv\")\n",
    "req_set = total_set[[\"occurrencemonth\", \"occurrencedayofweek\", \"occurrencehour\", \"Lat\", \"Long\"]]\n",
    "req_set.drop(req_set.index[503], inplace=True)\n",
    "\n",
    "month_enc = LabelEncoder()\n",
    "month_enc.fit(req_set.occurrencemonth.astype(str))\n",
    "req_set.occurrencemonth = month_enc.transform(req_set.occurrencemonth.astype(str))\n",
    "\n",
    "day_enc = LabelEncoder()\n",
    "day_enc.fit(req_set.occurrencedayofweek.astype(str))\n",
    "req_set.occurrencedayofweek = day_enc.transform(req_set.occurrencedayofweek.astype(str))\n",
    "\n",
    "print(req_set.head(2))\n",
    "\n",
    "stan_scaler = StandardScaler().fit(req_set)\n",
    "req_set = stan_scaler.transform(req_set)\n",
    "\n",
    "# print(month_enc.classes_)\n",
    "# print(day_enc.classes_)\n",
    "\n",
    "\"\"\"\n",
    "['April' 'August' 'December' 'February' 'January' 'July' 'June' 'March'\n",
    " 'May' 'November' 'October' 'September']\n",
    "['Friday    ' 'Monday    ' 'Saturday  ' 'Sunday    ' 'Thursday  '\n",
    " 'Tuesday   ' 'Wednesday ']\n",
    "\"\"\""
   ]
  },
  {
   "cell_type": "code",
   "execution_count": 11,
   "metadata": {},
   "outputs": [],
   "source": [
    "# reduc = PCA(n_components=2).fit(req_set)\n",
    "# reduc = reduc.transform(req_set)\n",
    "# plt.hist2d(reduc[:,0], reduc[:,1])\n",
    "# plt.plot()"
   ]
  },
  {
   "cell_type": "code",
   "execution_count": 8,
   "metadata": {},
   "outputs": [],
   "source": [
    "Nc = range(1, 20)\n",
    "\n",
    "kmeans = [KMeans(n_clusters=i) for i in Nc]\n",
    "\n",
    "score = [kmeans[i].fit(req_set).score(req_set) for i in range(len(kmeans))]"
   ]
  },
  {
   "cell_type": "code",
   "execution_count": 9,
   "metadata": {},
   "outputs": [
    {
     "data": {
      "image/png": "[encoded data removed]",
      "text/plain": [
       "<matplotlib.figure.Figure at 0x21d2af86eb8>"
      ]
     },
     "metadata": {},
     "output_type": "display_data"
    }
   ],
   "source": [
    "plt.plot(Nc,score)\n",
    "plt.xlabel('Number of Clusters')\n",
    "plt.ylabel('Score')\n",
    "plt.title('Elbow Curve')\n",
    "plt.show()\n",
    "\n",
    "###IDEAL NUMBER IS 3"
   ]
  },
  {
   "cell_type": "code",
   "execution_count": 10,
   "metadata": {},
   "outputs": [
    {
     "data": {
      "text/plain": [
       "KMeans(algorithm='auto', copy_x=True, init='k-means++', max_iter=300,\n",
       "    n_clusters=3, n_init=10, n_jobs=1, precompute_distances='auto',\n",
       "    random_state=None, tol=0.0001, verbose=0)"
      ]
     },
     "execution_count": 10,
     "metadata": {},
     "output_type": "execute_result"
    }
   ],
   "source": [
    "k_means = cluster.KMeans(n_clusters=3)\n",
    "k_means.fit(req_set)"
   ]
  },
  {
   "cell_type": "code",
   "execution_count": 11,
   "metadata": {},
   "outputs": [],
   "source": [
    "# new_point = [9, 0, 17, 43.71311993, -79.39601716]\n",
    "\n",
    "#43.757390, -79.517541 is jane and finch\n",
    "new_point = np.array([9, 0, 21, 43.75738, -79.517541]).reshape(1,-1)\n",
    "new_point = stan_scaler.transform(new_point)"
   ]
  },
  {
   "cell_type": "code",
   "execution_count": 12,
   "metadata": {},
   "outputs": [],
   "source": [
    "centers = k_means.cluster_centers_"
   ]
  },
  {
   "cell_type": "code",
   "execution_count": 13,
   "metadata": {},
   "outputs": [],
   "source": [
    "def find_smallest(n_scr, cents):\n",
    "    n_scr = np.array([n_scr]).astype(float)\n",
    "    lowest_score = 100000\n",
    "    lowest_index = 0\n",
    "    index = 0\n",
    "    for cent in cents:\n",
    "        cur_score = euclidean_distances(n_scr, [cent])\n",
    "        if cur_score < lowest_score:\n",
    "            lowest_score = cur_score\n",
    "            lowest_index = index\n",
    "        index += 1\n",
    "    return lowest_score, lowest_index"
   ]
  },
  {
   "cell_type": "code",
   "execution_count": 14,
   "metadata": {},
   "outputs": [],
   "source": [
    "testpoint_smallest, testpoint_ind = find_smallest(new_point[0], centers)"
   ]
  },
  {
   "cell_type": "code",
   "execution_count": 15,
   "metadata": {},
   "outputs": [],
   "source": [
    "all_dists = 0\n",
    "for i in req_set:\n",
    "    scr, ind = find_smallest(i, centers)\n",
    "    if scr < 1.1 * testpoint_smallest[0][0] and scr > 0.9 * testpoint_smallest[0][0]:\n",
    "        all_dists += 1"
   ]
  },
  {
   "cell_type": "code",
   "execution_count": 17,
   "metadata": {},
   "outputs": [],
   "source": [
    "all_lats = []\n",
    "all_longs = []\n",
    "prediction_arrs = []"
   ]
  },
  {
   "cell_type": "code",
   "execution_count": 18,
   "metadata": {
    "scrolled": true
   },
   "outputs": [],
   "source": [
    "def create_predictions():\n",
    "    index = 0\n",
    "    now = datetime.datetime.now()\n",
    "    for lat in range(43662478, 43775351, 641):\n",
    "        for long in range(79314937,79521751, 1533):\n",
    "            new_point = np.array([9, 0,now.hour,lat/1000000,long/1000000]).reshape(1,-1)\n",
    "            scaled_point = stan_scaler.transform(new_point)\n",
    "            cur_score, cur_index = find_smallest(scaled_point[0], k_means.cluster_centers_)\n",
    "#             new_point.append(cur_score[0][0])\n",
    "#             new_point.append(cur_index)\n",
    "            index += 1\n",
    "            print(cur_score)\n",
    "#         print(str(index) + \"/\" + str(len(all_lats) * len(all_longs)))\n",
    "\n",
    "    #Lat = 43.638 - 43.813, intervals of 0.001\n",
    "    #Long = -79.52 - -79.33 intervals of 0.001"
   ]
  }
 ],
 "metadata": {
  "kernelspec": {
   "display_name": "Python 3",
   "language": "python",
   "name": "python3"
  },
  "language_info": {
   "codemirror_mode": {
    "name": "ipython",
    "version": 3
   },
   "file_extension": ".py",
   "mimetype": "text/x-python",
   "name": "python",
   "nbconvert_exporter": "python",
   "pygments_lexer": "ipython3",
   "version": "3.6.2"
  }
 },
 "nbformat": 4,
 "nbformat_minor": 2
}
